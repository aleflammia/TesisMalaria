{
 "cells": [
  {
   "cell_type": "code",
   "execution_count": 20,
   "metadata": {},
   "outputs": [
    {
     "data": {
      "text/plain": [
       "''"
      ]
     },
     "execution_count": 20,
     "metadata": {},
     "output_type": "execute_result"
    }
   ],
   "source": [
    "##############################\n",
    "#    Generating histogram    #\n",
    "##############################\n",
    "\n",
    "\"\"\"\"\"\""
   ]
  },
  {
   "cell_type": "markdown",
   "metadata": {},
   "source": [
    "From this point all the images and annotations that were previously in the train and valid folder, were deleted; and images genereted into the cells folder, along the annotations.txt file were moved outside the cells folder to the train and valid folders. "
   ]
  },
  {
   "cell_type": "code",
   "execution_count": 1,
   "metadata": {},
   "outputs": [
    {
     "name": "stdout",
     "output_type": "stream",
     "text": [
      "Total annotations found: 1147\n",
      "Total photos found: 1147\n",
      "Total valid pairs found: 1147\n"
     ]
    }
   ],
   "source": [
    "import os\n",
    "from PIL import Image, ImageDraw\n",
    "\n",
    "# Auxiliary Functions\n",
    "\n",
    "# Draw a circle on an image.\n",
    "def draw_circle_on_image(img, center, edge=None, fixed_radius=None):\n",
    "    \"\"\"Draw a circle on the given image based on center and edge or a fixed radius.\"\"\"\n",
    "    draw = ImageDraw.Draw(img)\n",
    "    if not edge:\n",
    "        bbox = [center[0]-fixed_radius, center[1]-fixed_radius, center[0]+fixed_radius, center[1]+fixed_radius]\n",
    "    else:\n",
    "        radius = int(((center[0]-edge[0])**2 + (center[1]-edge[1])**2)**0.5)\n",
    "        bbox = [center[0]-radius, center[1]-radius, center[0]+radius, center[1]+radius]\n",
    "    draw.ellipse(bbox, outline=\"green\", width=2)\n",
    "\n",
    "# Create a cropped image of individual figure.\n",
    "def create_individual_figure_image(original_image, center=None, edge=None, fixed_radius=None, coordinates=None, margin=10):\n",
    "    \"\"\"Crop the image around the region of interest.\"\"\"\n",
    "    if coordinates:\n",
    "        x_coords, y_coords = zip(*coordinates)\n",
    "        left = max(min(x_coords) - margin, 0)\n",
    "        top = max(min(y_coords) - margin, 0)\n",
    "        right = min(max(x_coords) + margin, original_image.width)\n",
    "        bottom = min(max(y_coords) + margin, original_image.height)\n",
    "    else:\n",
    "        if edge:\n",
    "            radius = int(((center[0]-edge[0])**2 + (center[1]-edge[1])**2)**0.5)\n",
    "        elif fixed_radius:\n",
    "            radius = fixed_radius\n",
    "        else:\n",
    "            raise ValueError(\"Either edge or fixed_radius must be provided.\")\n",
    "        left = max(center[0] - radius - margin, 0)\n",
    "        top = max(center[1] - radius - margin, 0)\n",
    "        right = min(center[0] + radius + margin, original_image.width)\n",
    "        bottom = min(center[1] + radius + margin, original_image.height)\n",
    "\n",
    "    cropped_image = original_image.crop((left, top, right, bottom))\n",
    "    return cropped_image\n",
    "\n",
    "# Create a dictionary of annotation and photo file pairs.\n",
    "def create_file_dict(folder_path):\n",
    "    \"\"\"Create a dictionary with annotation-photo file pairs.\"\"\"\n",
    "    files = os.listdir(folder_path)\n",
    "    annotation_files = sorted([f for f in files if f.startswith(\"A\") and f.endswith(\".txt\")])\n",
    "    photo_files = sorted([f for f in files if f.startswith(\"P\") and f.endswith(\".jpg\")])\n",
    "\n",
    "    file_dict = {}\n",
    "    for a in annotation_files:\n",
    "        corresponding_photo = \"P\" + a[1:-3] + \"jpg\"\n",
    "        if corresponding_photo in photo_files:\n",
    "            file_dict[a] = corresponding_photo\n",
    "\n",
    "    print(f\"Total annotations found: {len(annotation_files)}\")\n",
    "    print(f\"Total photos found: {len(photo_files)}\")\n",
    "    print(f\"Total valid pairs found: {len(file_dict)}\")\n",
    "    return file_dict\n",
    "\n",
    "# Ensure the 'cells' directory exists. If not, create it.\n",
    "def ensure_directory_exists(folder_path, subfolder_name=\"cells_valid\"):\n",
    "    \"\"\"Ensure a subfolder exists within a folder, create it if not.\"\"\"\n",
    "    directory_path = os.path.join(folder_path, subfolder_name)\n",
    "    if not os.path.exists(directory_path):\n",
    "        os.mkdir(directory_path)\n",
    "    return directory_path\n",
    "\n",
    "# Process images and annotations, create crops, and write information to a file.\n",
    "def process_images_and_annotations(folder_path, file_dict):\n",
    "    \"\"\"Process image-annotation pairs, create crops and write crop info to a file.\"\"\"\n",
    "    n = 0  # Counter to number the crops\n",
    "\n",
    "    # Ensure the cells directory exists and get its path\n",
    "    cells_directory = ensure_directory_exists(folder_path)\n",
    "\n",
    "    # File path for the output txt\n",
    "    output_txt_path = os.path.join(cells_directory, \"info_valid.txt\")\n",
    "   \n",
    "    with open(output_txt_path, \"w\") as output_txt:  # Open file for writing\n",
    "        for aid, pid in file_dict.items():\n",
    "            annotation_path = os.path.join(folder_path, aid)\n",
    "            photo_path = os.path.join(folder_path, pid)\n",
    "\n",
    "            img = Image.open(photo_path)\n",
    "\n",
    "            with open(annotation_path, 'r') as f:\n",
    "                lines = f.readlines()[1:]\n",
    "                for line in lines:\n",
    "                    data = line.strip().split(',')\n",
    "                    species = pid[1].upper()\n",
    "                    if species == \"F\":\n",
    "                        species_name = \"falciparum\"\n",
    "                    elif species == \"V\":\n",
    "                        species_name = \"vivax\"\n",
    "                    else:\n",
    "                        species_name = \"uninfected\"\n",
    "\n",
    "                    cell_type = data[1]\n",
    "                    comment = data[2]\n",
    "\n",
    "                    center = (int(float(data[5])), int(float(data[6])))\n",
    "                    if data[3] == \"Circle\":\n",
    "                        edge = (int(float(data[7])), int(float(data[8])))\n",
    "                        cropped_image = create_individual_figure_image(img, center, edge)\n",
    "                    elif data[3] == \"Polygon\":\n",
    "                        num_coords = int(data[4])\n",
    "                        coordinates = [(float(data[5+2*i]), float(data[6+2*i])) for i in range(num_coords)]\n",
    "                        cropped_image = create_individual_figure_image(img, coordinates=coordinates)\n",
    "                    elif data[3] == \"Point\":\n",
    "                        cropped_image = create_individual_figure_image(img, center, fixed_radius=60)\n",
    "\n",
    "                    n += 1\n",
    "                    cropped_image_path = os.path.join(cells_directory, f\"{n}.jpg\")\n",
    "                    cropped_image.save(cropped_image_path)\n",
    "                    output_txt.write(f\"{n},{species_name},{cell_type.lower()},{comment.lower()}\\n\")\n",
    "\n",
    "# Main entry point for the script.\n",
    "if __name__ == \"__main__\":\n",
    "    train_folder = \"C:/Malaria/Dataset/valid\"\n",
    "    file_dict = create_file_dict(train_folder)\n",
    "    process_images_and_annotations(train_folder, file_dict)\n"
   ]
  },
  {
   "cell_type": "code",
   "execution_count": null,
   "metadata": {},
   "outputs": [],
   "source": []
  }
 ],
 "metadata": {
  "kernelspec": {
   "display_name": "Python 3",
   "language": "python",
   "name": "python3"
  },
  "language_info": {
   "codemirror_mode": {
    "name": "ipython",
    "version": 3
   },
   "file_extension": ".py",
   "mimetype": "text/x-python",
   "name": "python",
   "nbconvert_exporter": "python",
   "pygments_lexer": "ipython3",
   "version": "3.11.2"
  },
  "orig_nbformat": 4
 },
 "nbformat": 4,
 "nbformat_minor": 2
}
